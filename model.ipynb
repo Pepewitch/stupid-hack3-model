{
 "cells": [
  {
   "cell_type": "code",
   "execution_count": 30,
   "metadata": {},
   "outputs": [],
   "source": [
    "import pandas as pd\n",
    "import numpy as np\n",
    "from os import listdir"
   ]
  },
  {
   "cell_type": "code",
   "execution_count": 31,
   "metadata": {},
   "outputs": [],
   "source": [
    "baseline = 0.4\n",
    "owner = 'MYMINT🐰'"
   ]
  },
  {
   "cell_type": "code",
   "execution_count": 32,
   "metadata": {},
   "outputs": [],
   "source": [
    "df = pd.read_csv('OUTPUT.csv')\n",
    "loveKeyword = {i.strip() for i in open('model/love.txt')}\n",
    "hateKeyword = {i.strip() for i in open('model/hate.txt')}\n",
    "def matchKeyword(keywords, message):\n",
    "    n = 0\n",
    "    for key in keywords:\n",
    "        n += message.count(key)\n",
    "    return n\n",
    "def preprocess(df):\n",
    "    df['datetime'] = pd.to_datetime(df['date']+' '+df['time'])\n",
    "    df['love'] = df['message'].apply(lambda x: matchKeyword(loveKeyword, x))\n",
    "    df['hate'] = df['message'].apply(lambda x: matchKeyword(hateKeyword, x))\n",
    "preprocess(df)"
   ]
  },
  {
   "cell_type": "code",
   "execution_count": 33,
   "metadata": {},
   "outputs": [],
   "source": [
    "def getRightSideWeight(df):\n",
    "    return len(df[df['name'] == owner])/len(df)\n",
    "\n",
    "def getAverageReplyTime(df):\n",
    "    reply = df[['name', 'datetime']]\n",
    "    currentReply = reply['name'][0]\n",
    "    currentTime = reply['datetime'][0]\n",
    "    times = 0\n",
    "    time = 0\n",
    "    for index, row in reply.iterrows():\n",
    "        if currentReply != row['name']:\n",
    "            timedelta = (row['datetime'] - currentTime).value/60e9\n",
    "            # assume 24 hrs is end of talking topic\n",
    "            if timedelta < 24*60:\n",
    "                time += timedelta\n",
    "                times += 1\n",
    "        currentTime = row['datetime']\n",
    "        currentReply = row['name']\n",
    "    return time / times\n",
    "\n",
    "def getLoveWordingRatio(df):\n",
    "    love = np.sum(df[df['name'] != owner]['love'])\n",
    "    hate = np.sum(df[df['name'] != owner]['hate'])\n",
    "    return love/(love+hate)"
   ]
  },
  {
   "cell_type": "code",
   "execution_count": 38,
   "metadata": {},
   "outputs": [],
   "source": [
    "reply_time_prop = 0.2\n",
    "right_side_weight_prop = 0.2\n",
    "wording_prop = 0.2\n",
    "def predict(df):\n",
    "    good = baseline\n",
    "    \n",
    "    right_side_weight = getRightSideWeight(df)\n",
    "    right_side_predict = 2 * (0.5-right_side_weight) * right_side_weight_prop\n",
    "    print(right_side_weight, right_side_predict)\n",
    "    good += right_side_predict\n",
    "\n",
    "    reply_time = getAverageReplyTime(df)\n",
    "    reply_time_predict = (-1 * min((reply_time-5)/20, reply_time_prop)) if reply_time > 5 else min((5-reply_time)/20 ,reply_time_prop)\n",
    "    print(reply_time, reply_time_predict)\n",
    "    good += reply_time_predict\n",
    "        \n",
    "    love_word = getLoveWordingRatio(df)\n",
    "    love_word_predict = 2 * (love_word-0.5) * wording_prop\n",
    "    print(love_word, love_word_predict)\n",
    "    good += love_word_predict\n",
    "    \n",
    "    return 0 if good < 0 else 1 if good > 1 else good"
   ]
  },
  {
   "cell_type": "code",
   "execution_count": 39,
   "metadata": {},
   "outputs": [
    {
     "name": "stdout",
     "output_type": "stream",
     "text": [
      "0.521415270018622 -0.008566108007448793\n",
      "48.27272727272727 -0.2\n",
      "0.375 -0.05\n"
     ]
    },
    {
     "data": {
      "text/plain": [
       "0.14143389199255124"
      ]
     },
     "execution_count": 39,
     "metadata": {},
     "output_type": "execute_result"
    }
   ],
   "source": [
    "predict(df)"
   ]
  },
  {
   "cell_type": "code",
   "execution_count": null,
   "metadata": {},
   "outputs": [],
   "source": []
  },
  {
   "cell_type": "code",
   "execution_count": null,
   "metadata": {},
   "outputs": [],
   "source": []
  }
 ],
 "metadata": {
  "kernelspec": {
   "display_name": "Python 3",
   "language": "python",
   "name": "python3"
  },
  "language_info": {
   "codemirror_mode": {
    "name": "ipython",
    "version": 3
   },
   "file_extension": ".py",
   "mimetype": "text/x-python",
   "name": "python",
   "nbconvert_exporter": "python",
   "pygments_lexer": "ipython3",
   "version": "3.7.3"
  }
 },
 "nbformat": 4,
 "nbformat_minor": 2
}
